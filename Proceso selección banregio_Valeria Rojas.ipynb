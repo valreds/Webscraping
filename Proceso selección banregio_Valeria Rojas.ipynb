{
 "cells": [
  {
   "cell_type": "markdown",
   "metadata": {},
   "source": [
    "# Proceso selección banregio\n",
    "---\n",
    "Creador : Valeria Rojas Linares"
   ]
  },
  {
   "cell_type": "markdown",
   "metadata": {},
   "source": [
    "### Solicitud del negocio - Objetivo\n",
    "\n",
    "El área de ventas de la empresa requiere un modelo que lo ayude a predecir el rating de todos los libros que tengan más de 3000 reviews. Ellos han identificado un par de factores que influyen el rating que reciben los libros y deberán ser incluidos en el modelo:\n",
    "\n",
    "- Días desde el lanzamiento del libro\n",
    "- Número de libros que ha tenido el autor entre los 50 más vendidos antes de la fecha de lanzamiento\n",
    "- El archivo contiene información acerca de los 50 libros más vendidos en amazon de 2009 a 2019. \n",
    "\n",
    "Tu tarea será construir un modelo que cumpla con los requisitos del negocio y realizar predicciones para algún subset de los datos."
   ]
  },
  {
   "cell_type": "code",
   "execution_count": 1,
   "metadata": {},
   "outputs": [],
   "source": [
    "#importar herramientas básicas\n",
    "#importar pandas para manejo de bd, limpieza, exploracion\n",
    "import pandas as pd\n",
    "#pyplot para generar gráficos\n",
    "import matplotlib.pyplot as plt\n",
    "%matplotlib inline\n",
    "#creación de gráficos \n",
    "import seaborn as sns"
   ]
  },
  {
   "cell_type": "code",
   "execution_count": 2,
   "metadata": {
    "scrolled": true
   },
   "outputs": [
    {
     "name": "stdout",
     "output_type": "stream",
     "text": [
      "<class 'pandas.core.frame.DataFrame'>\n",
      "RangeIndex: 550 entries, 0 to 549\n",
      "Data columns (total 7 columns):\n",
      "Titulo              550 non-null object\n",
      "Autor               550 non-null object\n",
      "Rating              550 non-null float64\n",
      "Reviews             550 non-null int64\n",
      "Precio              550 non-null int64\n",
      "FechaLanzamiento    550 non-null object\n",
      "Genero              550 non-null object\n",
      "dtypes: float64(1), int64(2), object(4)\n",
      "memory usage: 30.2+ KB\n"
     ]
    }
   ],
   "source": [
    "#importar datos\n",
    "dataset = pd.read_csv(\"books.csv\")\n",
    "#ver el tipo de datos que contiene cada columna\n",
    "dataset.info()"
   ]
  },
  {
   "cell_type": "markdown",
   "metadata": {},
   "source": [
    "### Evaluación del dataset\n",
    "Como cualquier fuente de datos, necesitamos saber qué tipo de archivo tenemos y si éste requiere alguna modificación. Por ejemplo, datos no válidos o nulos que necesiten ser reemplazados.\n",
    "Pasos a seguir:\n",
    "1. Seleccionar dataset con libros que tienen más de 3000 reviews\n",
    "2. Crear nuevas variables días y número de libros más vendidos\n",
    "3. Conocer estadísticas básicas del dataset\n",
    "4. Evaluar si existen datos nulos y corregirlos\n",
    "5. Relación entre variables"
   ]
  },
  {
   "cell_type": "markdown",
   "metadata": {},
   "source": [
    "#### 1.  Seleccionar dataset con libros que tienen más de 3000 reviews\n",
    "Antes de comenzar el análisis, comenzamos con detectar los libros que tienen más de 3000 reviews."
   ]
  },
  {
   "cell_type": "code",
   "execution_count": 3,
   "metadata": {
    "scrolled": true
   },
   "outputs": [],
   "source": [
    "data = dataset[dataset['Reviews']>=3000]"
   ]
  },
  {
   "cell_type": "markdown",
   "metadata": {},
   "source": [
    "#### 2. Crear nuevas variables"
   ]
  },
  {
   "cell_type": "markdown",
   "metadata": {},
   "source": [
    "##### a. Dias transcurridos"
   ]
  },
  {
   "cell_type": "code",
   "execution_count": 4,
   "metadata": {},
   "outputs": [
    {
     "name": "stderr",
     "output_type": "stream",
     "text": [
      "C:\\Users\\PipeReds\\Anaconda3\\lib\\site-packages\\ipykernel_launcher.py:5: SettingWithCopyWarning: \n",
      "A value is trying to be set on a copy of a slice from a DataFrame.\n",
      "Try using .loc[row_indexer,col_indexer] = value instead\n",
      "\n",
      "See the caveats in the documentation: http://pandas.pydata.org/pandas-docs/stable/user_guide/indexing.html#returning-a-view-versus-a-copy\n",
      "  \"\"\"\n",
      "C:\\Users\\PipeReds\\Anaconda3\\lib\\site-packages\\ipykernel_launcher.py:7: SettingWithCopyWarning: \n",
      "A value is trying to be set on a copy of a slice from a DataFrame.\n",
      "Try using .loc[row_indexer,col_indexer] = value instead\n",
      "\n",
      "See the caveats in the documentation: http://pandas.pydata.org/pandas-docs/stable/user_guide/indexing.html#returning-a-view-versus-a-copy\n",
      "  import sys\n"
     ]
    },
    {
     "data": {
      "text/html": [
       "<div>\n",
       "<style scoped>\n",
       "    .dataframe tbody tr th:only-of-type {\n",
       "        vertical-align: middle;\n",
       "    }\n",
       "\n",
       "    .dataframe tbody tr th {\n",
       "        vertical-align: top;\n",
       "    }\n",
       "\n",
       "    .dataframe thead th {\n",
       "        text-align: right;\n",
       "    }\n",
       "</style>\n",
       "<table border=\"1\" class=\"dataframe\">\n",
       "  <thead>\n",
       "    <tr style=\"text-align: right;\">\n",
       "      <th></th>\n",
       "      <th>Titulo</th>\n",
       "      <th>Autor</th>\n",
       "      <th>Rating</th>\n",
       "      <th>Reviews</th>\n",
       "      <th>Precio</th>\n",
       "      <th>FechaLanzamiento</th>\n",
       "      <th>Genero</th>\n",
       "      <th>Dias_transcurridos</th>\n",
       "    </tr>\n",
       "  </thead>\n",
       "  <tbody>\n",
       "    <tr>\n",
       "      <td>0</td>\n",
       "      <td>10-Day Green Smoothie Cleanse</td>\n",
       "      <td>JJ Smith</td>\n",
       "      <td>4.7</td>\n",
       "      <td>17350</td>\n",
       "      <td>8</td>\n",
       "      <td>2016-02-22</td>\n",
       "      <td>Non Fiction</td>\n",
       "      <td>1408</td>\n",
       "    </tr>\n",
       "    <tr>\n",
       "      <td>2</td>\n",
       "      <td>12 Rules for Life: An Antidote to Chaos</td>\n",
       "      <td>Jordan B. Peterson</td>\n",
       "      <td>4.7</td>\n",
       "      <td>18979</td>\n",
       "      <td>15</td>\n",
       "      <td>2018-10-07</td>\n",
       "      <td>Non Fiction</td>\n",
       "      <td>450</td>\n",
       "    </tr>\n",
       "    <tr>\n",
       "      <td>3</td>\n",
       "      <td>1984 (Signet Classics)</td>\n",
       "      <td>George Orwell</td>\n",
       "      <td>4.7</td>\n",
       "      <td>21424</td>\n",
       "      <td>6</td>\n",
       "      <td>2017-08-26</td>\n",
       "      <td>Fiction</td>\n",
       "      <td>857</td>\n",
       "    </tr>\n",
       "    <tr>\n",
       "      <td>4</td>\n",
       "      <td>5,000 Awesome Facts (About Everything!) (Natio...</td>\n",
       "      <td>National Geographic Kids</td>\n",
       "      <td>4.8</td>\n",
       "      <td>7665</td>\n",
       "      <td>12</td>\n",
       "      <td>2019-12-05</td>\n",
       "      <td>Non Fiction</td>\n",
       "      <td>26</td>\n",
       "    </tr>\n",
       "    <tr>\n",
       "      <td>5</td>\n",
       "      <td>A Dance with Dragons (A Song of Ice and Fire)</td>\n",
       "      <td>George R. R. Martin</td>\n",
       "      <td>4.4</td>\n",
       "      <td>12643</td>\n",
       "      <td>11</td>\n",
       "      <td>2011-05-10</td>\n",
       "      <td>Fiction</td>\n",
       "      <td>3157</td>\n",
       "    </tr>\n",
       "  </tbody>\n",
       "</table>\n",
       "</div>"
      ],
      "text/plain": [
       "                                              Titulo  \\\n",
       "0                      10-Day Green Smoothie Cleanse   \n",
       "2            12 Rules for Life: An Antidote to Chaos   \n",
       "3                             1984 (Signet Classics)   \n",
       "4  5,000 Awesome Facts (About Everything!) (Natio...   \n",
       "5      A Dance with Dragons (A Song of Ice and Fire)   \n",
       "\n",
       "                      Autor  Rating  Reviews  Precio FechaLanzamiento  \\\n",
       "0                  JJ Smith     4.7    17350       8       2016-02-22   \n",
       "2        Jordan B. Peterson     4.7    18979      15       2018-10-07   \n",
       "3             George Orwell     4.7    21424       6       2017-08-26   \n",
       "4  National Geographic Kids     4.8     7665      12       2019-12-05   \n",
       "5       George R. R. Martin     4.4    12643      11       2011-05-10   \n",
       "\n",
       "        Genero  Dias_transcurridos  \n",
       "0  Non Fiction                1408  \n",
       "2  Non Fiction                 450  \n",
       "3      Fiction                 857  \n",
       "4  Non Fiction                  26  \n",
       "5      Fiction                3157  "
      ]
     },
     "execution_count": 4,
     "metadata": {},
     "output_type": "execute_result"
    }
   ],
   "source": [
    "#Fecha final será el último día de 2019\n",
    "fecha = '2019-12-31'\n",
    "fecha = pd.to_datetime(fecha)\n",
    "# Convertir fecha a formato datetime\n",
    "data['FechaLanzamiento']= pd.to_datetime(data['FechaLanzamiento'], format=\"%Y-%m-%d\")\n",
    "#Calcular días transcurridos, restar fecha final a Fecha de Lanzamiento\n",
    "data['Dias_transcurridos'] = (fecha - data['FechaLanzamiento']).dt.days\n",
    "data.head()"
   ]
  },
  {
   "cell_type": "markdown",
   "metadata": {},
   "source": [
    "##### b. Número de libros que ha tenido el autor entre los 50 más vendidos antes de la fecha de lanzamiento"
   ]
  },
  {
   "cell_type": "markdown",
   "metadata": {},
   "source": [
    "Para esta variable, debido a que no tenemos una columna con el número de volúmenes vendidos por autor ni el número de libros vendidos antes de la fecha de lanzamiento, se asumirá la variable como el número de libros por autor dentro de la lista. Esto es, la cuenta total de libros por cada autor y se añadirá como feature o variable al set de datos."
   ]
  },
  {
   "cell_type": "code",
   "execution_count": 5,
   "metadata": {
    "scrolled": true
   },
   "outputs": [
    {
     "data": {
      "text/plain": [
       "Jeff Kinney                           12\n",
       "Suzanne Collins                       11\n",
       "Gary Chapman                          10\n",
       "American Psychological Association    10\n",
       "Gallup                                 9\n",
       "Name: Autor, dtype: int64"
      ]
     },
     "execution_count": 5,
     "metadata": {},
     "output_type": "execute_result"
    }
   ],
   "source": [
    "#crear la cuenta total de libros por autor\n",
    "autor = data['Autor'].value_counts()\n",
    "autor.head()"
   ]
  },
  {
   "cell_type": "code",
   "execution_count": 6,
   "metadata": {},
   "outputs": [
    {
     "name": "stderr",
     "output_type": "stream",
     "text": [
      "C:\\Users\\PipeReds\\Anaconda3\\lib\\site-packages\\ipykernel_launcher.py:2: SettingWithCopyWarning: \n",
      "A value is trying to be set on a copy of a slice from a DataFrame.\n",
      "Try using .loc[row_indexer,col_indexer] = value instead\n",
      "\n",
      "See the caveats in the documentation: http://pandas.pydata.org/pandas-docs/stable/user_guide/indexing.html#returning-a-view-versus-a-copy\n",
      "  \n"
     ]
    },
    {
     "data": {
      "text/html": [
       "<div>\n",
       "<style scoped>\n",
       "    .dataframe tbody tr th:only-of-type {\n",
       "        vertical-align: middle;\n",
       "    }\n",
       "\n",
       "    .dataframe tbody tr th {\n",
       "        vertical-align: top;\n",
       "    }\n",
       "\n",
       "    .dataframe thead th {\n",
       "        text-align: right;\n",
       "    }\n",
       "</style>\n",
       "<table border=\"1\" class=\"dataframe\">\n",
       "  <thead>\n",
       "    <tr style=\"text-align: right;\">\n",
       "      <th></th>\n",
       "      <th>Titulo</th>\n",
       "      <th>Autor</th>\n",
       "      <th>Rating</th>\n",
       "      <th>Reviews</th>\n",
       "      <th>Precio</th>\n",
       "      <th>FechaLanzamiento</th>\n",
       "      <th>Genero</th>\n",
       "      <th>Dias_transcurridos</th>\n",
       "      <th>libros_top</th>\n",
       "    </tr>\n",
       "  </thead>\n",
       "  <tbody>\n",
       "    <tr>\n",
       "      <td>0</td>\n",
       "      <td>10-Day Green Smoothie Cleanse</td>\n",
       "      <td>JJ Smith</td>\n",
       "      <td>4.7</td>\n",
       "      <td>17350</td>\n",
       "      <td>8</td>\n",
       "      <td>2016-02-22</td>\n",
       "      <td>Non Fiction</td>\n",
       "      <td>1408</td>\n",
       "      <td>1</td>\n",
       "    </tr>\n",
       "    <tr>\n",
       "      <td>2</td>\n",
       "      <td>12 Rules for Life: An Antidote to Chaos</td>\n",
       "      <td>Jordan B. Peterson</td>\n",
       "      <td>4.7</td>\n",
       "      <td>18979</td>\n",
       "      <td>15</td>\n",
       "      <td>2018-10-07</td>\n",
       "      <td>Non Fiction</td>\n",
       "      <td>450</td>\n",
       "      <td>1</td>\n",
       "    </tr>\n",
       "    <tr>\n",
       "      <td>3</td>\n",
       "      <td>1984 (Signet Classics)</td>\n",
       "      <td>George Orwell</td>\n",
       "      <td>4.7</td>\n",
       "      <td>21424</td>\n",
       "      <td>6</td>\n",
       "      <td>2017-08-26</td>\n",
       "      <td>Fiction</td>\n",
       "      <td>857</td>\n",
       "      <td>1</td>\n",
       "    </tr>\n",
       "    <tr>\n",
       "      <td>4</td>\n",
       "      <td>5,000 Awesome Facts (About Everything!) (Natio...</td>\n",
       "      <td>National Geographic Kids</td>\n",
       "      <td>4.8</td>\n",
       "      <td>7665</td>\n",
       "      <td>12</td>\n",
       "      <td>2019-12-05</td>\n",
       "      <td>Non Fiction</td>\n",
       "      <td>26</td>\n",
       "      <td>1</td>\n",
       "    </tr>\n",
       "    <tr>\n",
       "      <td>5</td>\n",
       "      <td>A Dance with Dragons (A Song of Ice and Fire)</td>\n",
       "      <td>George R. R. Martin</td>\n",
       "      <td>4.4</td>\n",
       "      <td>12643</td>\n",
       "      <td>11</td>\n",
       "      <td>2011-05-10</td>\n",
       "      <td>Fiction</td>\n",
       "      <td>3157</td>\n",
       "      <td>2</td>\n",
       "    </tr>\n",
       "  </tbody>\n",
       "</table>\n",
       "</div>"
      ],
      "text/plain": [
       "                                              Titulo  \\\n",
       "0                      10-Day Green Smoothie Cleanse   \n",
       "2            12 Rules for Life: An Antidote to Chaos   \n",
       "3                             1984 (Signet Classics)   \n",
       "4  5,000 Awesome Facts (About Everything!) (Natio...   \n",
       "5      A Dance with Dragons (A Song of Ice and Fire)   \n",
       "\n",
       "                      Autor  Rating  Reviews  Precio FechaLanzamiento  \\\n",
       "0                  JJ Smith     4.7    17350       8       2016-02-22   \n",
       "2        Jordan B. Peterson     4.7    18979      15       2018-10-07   \n",
       "3             George Orwell     4.7    21424       6       2017-08-26   \n",
       "4  National Geographic Kids     4.8     7665      12       2019-12-05   \n",
       "5       George R. R. Martin     4.4    12643      11       2011-05-10   \n",
       "\n",
       "        Genero  Dias_transcurridos  libros_top  \n",
       "0  Non Fiction                1408           1  \n",
       "2  Non Fiction                 450           1  \n",
       "3      Fiction                 857           1  \n",
       "4  Non Fiction                  26           1  \n",
       "5      Fiction                3157           2  "
      ]
     },
     "execution_count": 6,
     "metadata": {},
     "output_type": "execute_result"
    }
   ],
   "source": [
    "#unir la cuenta total al dataset original usando map\n",
    "data['libros_top']= data.Autor.map(data.Autor.value_counts())\n",
    "data.head()"
   ]
  },
  {
   "cell_type": "markdown",
   "metadata": {},
   "source": [
    "##### c. Otras variables\n",
    "Para esta sección, añadiremos el Género como posible variable, ya que queremos evaluar si éste tiene un impacto en el número de Reviews y el rating de cada libro.\n",
    "En total, 242 libros son género Non Fiction y 222 son Fiction."
   ]
  },
  {
   "cell_type": "code",
   "execution_count": 7,
   "metadata": {
    "scrolled": false
   },
   "outputs": [
    {
     "data": {
      "text/plain": [
       "Non Fiction    242\n",
       "Fiction        222\n",
       "Name: Genero, dtype: int64"
      ]
     },
     "execution_count": 7,
     "metadata": {},
     "output_type": "execute_result"
    }
   ],
   "source": [
    "data['Genero'].value_counts()"
   ]
  },
  {
   "cell_type": "code",
   "execution_count": 8,
   "metadata": {
    "scrolled": false
   },
   "outputs": [
    {
     "name": "stderr",
     "output_type": "stream",
     "text": [
      "C:\\Users\\PipeReds\\Anaconda3\\lib\\site-packages\\ipykernel_launcher.py:5: SettingWithCopyWarning: \n",
      "A value is trying to be set on a copy of a slice from a DataFrame.\n",
      "Try using .loc[row_indexer,col_indexer] = value instead\n",
      "\n",
      "See the caveats in the documentation: http://pandas.pydata.org/pandas-docs/stable/user_guide/indexing.html#returning-a-view-versus-a-copy\n",
      "  \"\"\"\n",
      "C:\\Users\\PipeReds\\Anaconda3\\lib\\site-packages\\ipykernel_launcher.py:6: SettingWithCopyWarning: \n",
      "A value is trying to be set on a copy of a slice from a DataFrame.\n",
      "Try using .loc[row_indexer,col_indexer] = value instead\n",
      "\n",
      "See the caveats in the documentation: http://pandas.pydata.org/pandas-docs/stable/user_guide/indexing.html#returning-a-view-versus-a-copy\n",
      "  \n"
     ]
    },
    {
     "data": {
      "text/html": [
       "<div>\n",
       "<style scoped>\n",
       "    .dataframe tbody tr th:only-of-type {\n",
       "        vertical-align: middle;\n",
       "    }\n",
       "\n",
       "    .dataframe tbody tr th {\n",
       "        vertical-align: top;\n",
       "    }\n",
       "\n",
       "    .dataframe thead th {\n",
       "        text-align: right;\n",
       "    }\n",
       "</style>\n",
       "<table border=\"1\" class=\"dataframe\">\n",
       "  <thead>\n",
       "    <tr style=\"text-align: right;\">\n",
       "      <th></th>\n",
       "      <th>Titulo</th>\n",
       "      <th>Autor</th>\n",
       "      <th>Rating</th>\n",
       "      <th>Reviews</th>\n",
       "      <th>Precio</th>\n",
       "      <th>FechaLanzamiento</th>\n",
       "      <th>Genero</th>\n",
       "      <th>Dias_transcurridos</th>\n",
       "      <th>libros_top</th>\n",
       "      <th>Genero_bin</th>\n",
       "    </tr>\n",
       "  </thead>\n",
       "  <tbody>\n",
       "    <tr>\n",
       "      <td>0</td>\n",
       "      <td>10-Day Green Smoothie Cleanse</td>\n",
       "      <td>JJ Smith</td>\n",
       "      <td>4.7</td>\n",
       "      <td>17350</td>\n",
       "      <td>8</td>\n",
       "      <td>2016-02-22</td>\n",
       "      <td>Non Fiction</td>\n",
       "      <td>1408</td>\n",
       "      <td>1</td>\n",
       "      <td>1</td>\n",
       "    </tr>\n",
       "    <tr>\n",
       "      <td>2</td>\n",
       "      <td>12 Rules for Life: An Antidote to Chaos</td>\n",
       "      <td>Jordan B. Peterson</td>\n",
       "      <td>4.7</td>\n",
       "      <td>18979</td>\n",
       "      <td>15</td>\n",
       "      <td>2018-10-07</td>\n",
       "      <td>Non Fiction</td>\n",
       "      <td>450</td>\n",
       "      <td>1</td>\n",
       "      <td>1</td>\n",
       "    </tr>\n",
       "    <tr>\n",
       "      <td>3</td>\n",
       "      <td>1984 (Signet Classics)</td>\n",
       "      <td>George Orwell</td>\n",
       "      <td>4.7</td>\n",
       "      <td>21424</td>\n",
       "      <td>6</td>\n",
       "      <td>2017-08-26</td>\n",
       "      <td>Fiction</td>\n",
       "      <td>857</td>\n",
       "      <td>1</td>\n",
       "      <td>0</td>\n",
       "    </tr>\n",
       "    <tr>\n",
       "      <td>4</td>\n",
       "      <td>5,000 Awesome Facts (About Everything!) (Natio...</td>\n",
       "      <td>National Geographic Kids</td>\n",
       "      <td>4.8</td>\n",
       "      <td>7665</td>\n",
       "      <td>12</td>\n",
       "      <td>2019-12-05</td>\n",
       "      <td>Non Fiction</td>\n",
       "      <td>26</td>\n",
       "      <td>1</td>\n",
       "      <td>1</td>\n",
       "    </tr>\n",
       "    <tr>\n",
       "      <td>5</td>\n",
       "      <td>A Dance with Dragons (A Song of Ice and Fire)</td>\n",
       "      <td>George R. R. Martin</td>\n",
       "      <td>4.4</td>\n",
       "      <td>12643</td>\n",
       "      <td>11</td>\n",
       "      <td>2011-05-10</td>\n",
       "      <td>Fiction</td>\n",
       "      <td>3157</td>\n",
       "      <td>2</td>\n",
       "      <td>0</td>\n",
       "    </tr>\n",
       "  </tbody>\n",
       "</table>\n",
       "</div>"
      ],
      "text/plain": [
       "                                              Titulo  \\\n",
       "0                      10-Day Green Smoothie Cleanse   \n",
       "2            12 Rules for Life: An Antidote to Chaos   \n",
       "3                             1984 (Signet Classics)   \n",
       "4  5,000 Awesome Facts (About Everything!) (Natio...   \n",
       "5      A Dance with Dragons (A Song of Ice and Fire)   \n",
       "\n",
       "                      Autor  Rating  Reviews  Precio FechaLanzamiento  \\\n",
       "0                  JJ Smith     4.7    17350       8       2016-02-22   \n",
       "2        Jordan B. Peterson     4.7    18979      15       2018-10-07   \n",
       "3             George Orwell     4.7    21424       6       2017-08-26   \n",
       "4  National Geographic Kids     4.8     7665      12       2019-12-05   \n",
       "5       George R. R. Martin     4.4    12643      11       2011-05-10   \n",
       "\n",
       "        Genero  Dias_transcurridos  libros_top  Genero_bin  \n",
       "0  Non Fiction                1408           1           1  \n",
       "2  Non Fiction                 450           1           1  \n",
       "3      Fiction                 857           1           0  \n",
       "4  Non Fiction                  26           1           1  \n",
       "5      Fiction                3157           2           0  "
      ]
     },
     "execution_count": 8,
     "metadata": {},
     "output_type": "execute_result"
    }
   ],
   "source": [
    "#convertir columna Genero (categórica) a numérica (binaria)\n",
    "# data[\"Genero\"] = data[\"Genero\"].astype('category')\n",
    "# data[\"Genero_bin\"] = data[\"Genero\"].cat.codes\n",
    "# data.head()\n",
    "data[\"Genero\"] = data[\"Genero\"].astype('category')\n",
    "data[\"Genero_bin\"] = data[\"Genero\"].cat.codes\n",
    "data.head()"
   ]
  },
  {
   "cell_type": "markdown",
   "metadata": {},
   "source": [
    "El resultado es Género binario, donde 0 es Fiction y 1 es non Fiction."
   ]
  },
  {
   "cell_type": "markdown",
   "metadata": {},
   "source": [
    "Otra variable a considerar es la ganancia total que el libro ha generado en el rango de tiempo. Asumiendo que el número de reviews es el total de libros vendidos en el periodo, se calcula la ganancia total para cada uno en porcentaje."
   ]
  },
  {
   "cell_type": "code",
   "execution_count": 9,
   "metadata": {},
   "outputs": [
    {
     "name": "stderr",
     "output_type": "stream",
     "text": [
      "C:\\Users\\PipeReds\\Anaconda3\\lib\\site-packages\\ipykernel_launcher.py:1: SettingWithCopyWarning: \n",
      "A value is trying to be set on a copy of a slice from a DataFrame.\n",
      "Try using .loc[row_indexer,col_indexer] = value instead\n",
      "\n",
      "See the caveats in the documentation: http://pandas.pydata.org/pandas-docs/stable/user_guide/indexing.html#returning-a-view-versus-a-copy\n",
      "  \"\"\"Entry point for launching an IPython kernel.\n",
      "C:\\Users\\PipeReds\\Anaconda3\\lib\\site-packages\\ipykernel_launcher.py:2: SettingWithCopyWarning: \n",
      "A value is trying to be set on a copy of a slice from a DataFrame.\n",
      "Try using .loc[row_indexer,col_indexer] = value instead\n",
      "\n",
      "See the caveats in the documentation: http://pandas.pydata.org/pandas-docs/stable/user_guide/indexing.html#returning-a-view-versus-a-copy\n",
      "  \n"
     ]
    },
    {
     "data": {
      "text/html": [
       "<div>\n",
       "<style scoped>\n",
       "    .dataframe tbody tr th:only-of-type {\n",
       "        vertical-align: middle;\n",
       "    }\n",
       "\n",
       "    .dataframe tbody tr th {\n",
       "        vertical-align: top;\n",
       "    }\n",
       "\n",
       "    .dataframe thead th {\n",
       "        text-align: right;\n",
       "    }\n",
       "</style>\n",
       "<table border=\"1\" class=\"dataframe\">\n",
       "  <thead>\n",
       "    <tr style=\"text-align: right;\">\n",
       "      <th></th>\n",
       "      <th>Titulo</th>\n",
       "      <th>Autor</th>\n",
       "      <th>Rating</th>\n",
       "      <th>Reviews</th>\n",
       "      <th>Precio</th>\n",
       "      <th>FechaLanzamiento</th>\n",
       "      <th>Genero</th>\n",
       "      <th>Dias_transcurridos</th>\n",
       "      <th>libros_top</th>\n",
       "      <th>Genero_bin</th>\n",
       "      <th>Ganancia</th>\n",
       "    </tr>\n",
       "  </thead>\n",
       "  <tbody>\n",
       "    <tr>\n",
       "      <td>0</td>\n",
       "      <td>10-Day Green Smoothie Cleanse</td>\n",
       "      <td>JJ Smith</td>\n",
       "      <td>4.7</td>\n",
       "      <td>17350</td>\n",
       "      <td>8</td>\n",
       "      <td>2016-02-22</td>\n",
       "      <td>Non Fiction</td>\n",
       "      <td>1408</td>\n",
       "      <td>1</td>\n",
       "      <td>1</td>\n",
       "      <td>0.181248</td>\n",
       "    </tr>\n",
       "    <tr>\n",
       "      <td>2</td>\n",
       "      <td>12 Rules for Life: An Antidote to Chaos</td>\n",
       "      <td>Jordan B. Peterson</td>\n",
       "      <td>4.7</td>\n",
       "      <td>18979</td>\n",
       "      <td>15</td>\n",
       "      <td>2018-10-07</td>\n",
       "      <td>Non Fiction</td>\n",
       "      <td>450</td>\n",
       "      <td>1</td>\n",
       "      <td>1</td>\n",
       "      <td>0.371748</td>\n",
       "    </tr>\n",
       "  </tbody>\n",
       "</table>\n",
       "</div>"
      ],
      "text/plain": [
       "                                    Titulo               Autor  Rating  \\\n",
       "0            10-Day Green Smoothie Cleanse            JJ Smith     4.7   \n",
       "2  12 Rules for Life: An Antidote to Chaos  Jordan B. Peterson     4.7   \n",
       "\n",
       "   Reviews  Precio FechaLanzamiento       Genero  Dias_transcurridos  \\\n",
       "0    17350       8       2016-02-22  Non Fiction                1408   \n",
       "2    18979      15       2018-10-07  Non Fiction                 450   \n",
       "\n",
       "   libros_top  Genero_bin  Ganancia  \n",
       "0           1           1  0.181248  \n",
       "2           1           1  0.371748  "
      ]
     },
     "execution_count": 9,
     "metadata": {},
     "output_type": "execute_result"
    }
   ],
   "source": [
    "data['Ganancia'] = data['Reviews'] * data['Precio']\n",
    "data['Ganancia'] = (data['Ganancia']*100) / data.Ganancia.sum()\n",
    "data.head(2)"
   ]
  },
  {
   "cell_type": "markdown",
   "metadata": {},
   "source": [
    "#### 2. Estadísticas básicas del dataset"
   ]
  },
  {
   "cell_type": "code",
   "execution_count": 10,
   "metadata": {},
   "outputs": [
    {
     "data": {
      "text/html": [
       "<div>\n",
       "<style scoped>\n",
       "    .dataframe tbody tr th:only-of-type {\n",
       "        vertical-align: middle;\n",
       "    }\n",
       "\n",
       "    .dataframe tbody tr th {\n",
       "        vertical-align: top;\n",
       "    }\n",
       "\n",
       "    .dataframe thead th {\n",
       "        text-align: right;\n",
       "    }\n",
       "</style>\n",
       "<table border=\"1\" class=\"dataframe\">\n",
       "  <thead>\n",
       "    <tr style=\"text-align: right;\">\n",
       "      <th></th>\n",
       "      <th>Rating</th>\n",
       "      <th>Reviews</th>\n",
       "      <th>Precio</th>\n",
       "      <th>Dias_transcurridos</th>\n",
       "      <th>libros_top</th>\n",
       "      <th>Genero_bin</th>\n",
       "      <th>Ganancia</th>\n",
       "    </tr>\n",
       "  </thead>\n",
       "  <tbody>\n",
       "    <tr>\n",
       "      <td>count</td>\n",
       "      <td>464.000000</td>\n",
       "      <td>464.000000</td>\n",
       "      <td>464.000000</td>\n",
       "      <td>464.000000</td>\n",
       "      <td>464.000000</td>\n",
       "      <td>464.000000</td>\n",
       "      <td>464.000000</td>\n",
       "    </tr>\n",
       "    <tr>\n",
       "      <td>mean</td>\n",
       "      <td>4.631681</td>\n",
       "      <td>13866.564655</td>\n",
       "      <td>12.875000</td>\n",
       "      <td>2385.183190</td>\n",
       "      <td>4.219828</td>\n",
       "      <td>0.521552</td>\n",
       "      <td>0.215517</td>\n",
       "    </tr>\n",
       "    <tr>\n",
       "      <td>std</td>\n",
       "      <td>0.229302</td>\n",
       "      <td>11816.033325</td>\n",
       "      <td>10.914625</td>\n",
       "      <td>4879.238943</td>\n",
       "      <td>3.048768</td>\n",
       "      <td>0.500074</td>\n",
       "      <td>0.233477</td>\n",
       "    </tr>\n",
       "    <tr>\n",
       "      <td>min</td>\n",
       "      <td>3.300000</td>\n",
       "      <td>3014.000000</td>\n",
       "      <td>0.000000</td>\n",
       "      <td>10.000000</td>\n",
       "      <td>1.000000</td>\n",
       "      <td>0.000000</td>\n",
       "      <td>0.000000</td>\n",
       "    </tr>\n",
       "    <tr>\n",
       "      <td>25%</td>\n",
       "      <td>4.500000</td>\n",
       "      <td>5797.000000</td>\n",
       "      <td>7.000000</td>\n",
       "      <td>881.750000</td>\n",
       "      <td>2.000000</td>\n",
       "      <td>0.000000</td>\n",
       "      <td>0.074343</td>\n",
       "    </tr>\n",
       "    <tr>\n",
       "      <td>50%</td>\n",
       "      <td>4.700000</td>\n",
       "      <td>9652.500000</td>\n",
       "      <td>10.500000</td>\n",
       "      <td>1819.500000</td>\n",
       "      <td>3.000000</td>\n",
       "      <td>1.000000</td>\n",
       "      <td>0.127618</td>\n",
       "    </tr>\n",
       "    <tr>\n",
       "      <td>75%</td>\n",
       "      <td>4.800000</td>\n",
       "      <td>19576.000000</td>\n",
       "      <td>15.000000</td>\n",
       "      <td>2818.000000</td>\n",
       "      <td>6.000000</td>\n",
       "      <td>1.000000</td>\n",
       "      <td>0.266952</td>\n",
       "    </tr>\n",
       "    <tr>\n",
       "      <td>max</td>\n",
       "      <td>4.900000</td>\n",
       "      <td>87841.000000</td>\n",
       "      <td>105.000000</td>\n",
       "      <td>43828.000000</td>\n",
       "      <td>12.000000</td>\n",
       "      <td>1.000000</td>\n",
       "      <td>1.867361</td>\n",
       "    </tr>\n",
       "  </tbody>\n",
       "</table>\n",
       "</div>"
      ],
      "text/plain": [
       "           Rating       Reviews      Precio  Dias_transcurridos  libros_top  \\\n",
       "count  464.000000    464.000000  464.000000          464.000000  464.000000   \n",
       "mean     4.631681  13866.564655   12.875000         2385.183190    4.219828   \n",
       "std      0.229302  11816.033325   10.914625         4879.238943    3.048768   \n",
       "min      3.300000   3014.000000    0.000000           10.000000    1.000000   \n",
       "25%      4.500000   5797.000000    7.000000          881.750000    2.000000   \n",
       "50%      4.700000   9652.500000   10.500000         1819.500000    3.000000   \n",
       "75%      4.800000  19576.000000   15.000000         2818.000000    6.000000   \n",
       "max      4.900000  87841.000000  105.000000        43828.000000   12.000000   \n",
       "\n",
       "       Genero_bin    Ganancia  \n",
       "count  464.000000  464.000000  \n",
       "mean     0.521552    0.215517  \n",
       "std      0.500074    0.233477  \n",
       "min      0.000000    0.000000  \n",
       "25%      0.000000    0.074343  \n",
       "50%      1.000000    0.127618  \n",
       "75%      1.000000    0.266952  \n",
       "max      1.000000    1.867361  "
      ]
     },
     "execution_count": 10,
     "metadata": {},
     "output_type": "execute_result"
    }
   ],
   "source": [
    "data.describe()"
   ]
  },
  {
   "cell_type": "markdown",
   "metadata": {},
   "source": [
    "Hasta ahora sabemos que son 550 features en nuestro archivo. La variable \"Rating\" tiene una media de 4.6 y no existen valores menores de 3.3 ni mayores de 5. \n",
    "Para la variable 'Reviews', los valores están muy polarizados; algunos libros tienen más de 80mil reseñas, mientras que otros tienen apenas 37."
   ]
  },
  {
   "cell_type": "code",
   "execution_count": 23,
   "metadata": {},
   "outputs": [
    {
     "data": {
      "image/png": "[encoded data removed]",
      "text/plain": [
       "<Figure size 288x216 with 1 Axes>"
      ]
     },
     "metadata": {
      "needs_background": "light"
     },
     "output_type": "display_data"
    },
    {
     "data": {
      "image/png": "[encoded data removed]",
      "text/plain": [
       "<Figure size 288x216 with 1 Axes>"
      ]
     },
     "metadata": {
      "needs_background": "light"
     },
     "output_type": "display_data"
    },
    {
     "data": {
      "image/png": "[encoded data removed]",
      "text/plain": [
       "<Figure size 288x216 with 1 Axes>"
      ]
     },
     "metadata": {
      "needs_background": "light"
     },
     "output_type": "display_data"
    },
    {
     "data": {
      "image/png": "[encoded data removed]",
      "text/plain": [
       "<Figure size 288x216 with 1 Axes>"
      ]
     },
     "metadata": {
      "needs_background": "light"
     },
     "output_type": "display_data"
    },
    {
     "data": {
      "image/png": "[encoded data removed]",
      "text/plain": [
       "<Figure size 288x216 with 1 Axes>"
      ]
     },
     "metadata": {
      "needs_background": "light"
     },
     "output_type": "display_data"
    }
   ],
   "source": [
    "#seleccionar variables numéricas menos Géneros\n",
    "data_num = data.drop(['Titulo', 'Autor', 'Genero', 'FechaLanzamiento', 'Genero', 'Genero_bin', 'Precio'], axis=1)\n",
    "\n",
    "#plotear las columnas en data_num formato boxplot\n",
    "for i in data_num.columns:\n",
    "    plt.figure(figsize=(4,3))\n",
    "    plt.title(i)\n",
    "    sns.boxplot(data=data[i])"
   ]
  },
  {
   "cell_type": "markdown",
   "metadata": {},
   "source": [
    "De manera más visual, las gráficas anteriores nos permiten observar la distribución de las variables en cuestión. Con relación a la variable \"Rating\", la gráfica nos deja ver que el 50% de los libros tienen un rating mayor a 4.6 y el 75% del total de los libros tienen un rating entre 4.4 y 4.8.\n",
    "\n",
    "Para Review (que para nuestro estudio son libros vendidos) se observa que el 75% de nuestro dataset tiene aproximadamente 20,000 reviews. Por lo que con este gráfico también se comprueba que el total de Reviews en parte refleja los libros más vendidos.\n",
    "\n",
    "En cuanto a Ganancia, el 75% de  los libros (348 libros) tienen en porcentaje .25% de la ganancia total del periodo. En otras palabras, el 75% de los libros generan un 87% de la ganancia total.\n",
    "\n",
    "Finalmente, en la variable de días trancurridos, la mayor parte de los libros vendidos tienen menos de 10,000 días de venta en el mercado (tomando como día final el último día del 2019)."
   ]
  },
  {
   "cell_type": "markdown",
   "metadata": {},
   "source": [
    "#### 3. Evaluar si existen datos nulos"
   ]
  },
  {
   "cell_type": "markdown",
   "metadata": {},
   "source": [
    "En este dataset no hay valores faltantes o nulos, por lo que no es necesaria ninguna imputación de datos."
   ]
  },
  {
   "cell_type": "code",
   "execution_count": 12,
   "metadata": {},
   "outputs": [
    {
     "data": {
      "text/plain": [
       "Titulo                0\n",
       "Autor                 0\n",
       "Rating                0\n",
       "Reviews               0\n",
       "Precio                0\n",
       "FechaLanzamiento      0\n",
       "Genero                0\n",
       "Dias_transcurridos    0\n",
       "libros_top            0\n",
       "Genero_bin            0\n",
       "Ganancia              0\n",
       "dtype: int64"
      ]
     },
     "execution_count": 12,
     "metadata": {},
     "output_type": "execute_result"
    }
   ],
   "source": [
    "#checar valores nulos\n",
    "data.isnull().sum(axis=0)"
   ]
  },
  {
   "cell_type": "markdown",
   "metadata": {},
   "source": [
    "#### 4. ¿Existe correlación entre las variables?\n",
    "Aunque el cliente ha seleccionado las variables que considera tienen un mayor impacto en el rating de un libro, a continuación creamos un correlograma que nos permite ver cuál es la relación entre variables. Este método, junto con los diagramas de dispersión (scatter plots), permiten observar de manera más visual la relación que existe entre las variables. \n",
    "\n",
    "Recordemos que existe correlación positiva si al aumentar una variable explicatoria también aumenta la variable a predecir (rating). Por ejemplo, el género Ficción tiene un impacto positivo (0.28) en el review de un libro. La correlación es negativa si al disminuir una variable independiente, también disminuye la variable dependiente (rating), tal es el caso de Rating y Precio. Esto se interpreta como una relación en la que si el precio del libro disminuye (-0.13), también disminuirá el Rating."
   ]
  },
  {
   "cell_type": "code",
   "execution_count": 13,
   "metadata": {},
   "outputs": [
    {
     "data": {
      "text/plain": [
       "<matplotlib.axes._subplots.AxesSubplot at 0x2b4826b6648>"
      ]
     },
     "execution_count": 13,
     "metadata": {},
     "output_type": "execute_result"
    },
    {
     "data": {
      "image/png": "[encoded data removed]",
      "text/plain": [
       "<Figure size 432x288 with 2 Axes>"
      ]
     },
     "metadata": {
      "needs_background": "light"
     },
     "output_type": "display_data"
    }
   ],
   "source": [
    "#crear correlograma con valores anotados\n",
    "sns.heatmap(data.corr(), cmap = sns.color_palette(\"Reds\"), annot=True)"
   ]
  },
  {
   "cell_type": "markdown",
   "metadata": {},
   "source": [
    "Para finalizar, se muestra la relación entre variables (gráficos de dispersión), así como la distribución de cada una a través de un histograma (gráfico de barra). De esta forma y de un solo vistazo podemos observar la relación y/o no relación que nuestras variables presentan. Por ejemplo, el precio guarda una relación negativa con Reviews, al disminuir el precio también disminuyen los reviews. Aunque la variable ganancia está correlacionada con Reviews y precio, es principalmente porque es el producto de ambas variables (es dependiente de este cálculo), por lo que existe colinearidad entre ellas. Por ello, la variable precio no estará dentro del modelo predictivo."
   ]
  },
  {
   "cell_type": "code",
   "execution_count": 14,
   "metadata": {},
   "outputs": [
    {
     "data": {
      "text/plain": [
       "<seaborn.axisgrid.PairGrid at 0x2b482821f88>"
      ]
     },
     "execution_count": 14,
     "metadata": {},
     "output_type": "execute_result"
    },
    {
     "data": {
      "image/png": "[encoded data removed]",
      "text/plain": [
       "<Figure size 900x900 with 30 Axes>"
      ]
     },
     "metadata": {
      "needs_background": "light"
     },
     "output_type": "display_data"
    }
   ],
   "source": [
    "sns.pairplot(data[[\"Rating\", \"Reviews\", 'Dias_transcurridos','libros_top', \"Ganancia\"]])"
   ]
  },
  {
   "cell_type": "markdown",
   "metadata": {},
   "source": [
    "Con los gráficos superiores, es más clara la relación entre la variable Ganancia con Rating y Reviews. En ambos casos se observa una relación positiva, entre mayor ganancia tiene un libro, éste tendrá más reviews."
   ]
  },
  {
   "cell_type": "markdown",
   "metadata": {},
   "source": [
    "### Evaluación de un modelo predictivo\n",
    "Para crear un modelo que sea capaz de predecir el rating de un libro tomando como variables independientes 'Review', 'Dias' y 'Precio', se seguirán los siguientes pasos:\n",
    "1. Normalización del dataset\n",
    "2. Dividir el dataset en set prueba y set de entrenamiento\n",
    "3. Crear y evaluar un modelo predictivo"
   ]
  },
  {
   "cell_type": "markdown",
   "metadata": {},
   "source": [
    "#### 1-2. Normalización del dataset y dividir en prueba y entrenamiento\n",
    "En la evaluación previa se destacó que las variables Reviews y días transcurridos tienen valores polarizados, por lo que se recomienda que todas las variables tengan la misma dimensión. Por ello, el dataset tendrá que ser normalizado, esto es tendrán valores entre 0 y 1. "
   ]
  },
  {
   "cell_type": "code",
   "execution_count": 15,
   "metadata": {},
   "outputs": [],
   "source": [
    "#extraer los features o variables para el modelo\n",
    "# la variable y (o variable dependiente) será el rating\n",
    "y = data['Rating']\n",
    "#Las variables independientes o que ayudarán a explicar el rating\n",
    "X = data[[ 'Reviews','Dias_transcurridos','Genero_bin','libros_top','Ganancia']]"
   ]
  },
  {
   "cell_type": "code",
   "execution_count": 16,
   "metadata": {},
   "outputs": [],
   "source": [
    "#importar el normalizador de sklearn\n",
    "from sklearn.preprocessing import MinMaxScaler\n",
    "#importar herramienta para dividir el dataset\n",
    "from sklearn.model_selection import train_test_split\n",
    "#crear el objeto\n",
    "scaler = MinMaxScaler()\n",
    "#dividimos el dataset en set de entrenamiento y de prueba. Usar ratio de 80% entrenamiento 15% test\n",
    "X_train, X_test, y_train, y_test = train_test_split(X, y, random_state = 0, test_size=0.15)\n",
    "#usamos fit para generar los valores max y min que necesita el escalado y transform para escalar el set\n",
    "X_train_scaled = scaler.fit_transform(X_train)\n",
    "# #transformar el set de prueba\n",
    "X_test_scaled = scaler.transform(X_test)"
   ]
  },
  {
   "cell_type": "code",
   "execution_count": 17,
   "metadata": {},
   "outputs": [
    {
     "name": "stdout",
     "output_type": "stream",
     "text": [
      "(394, 5)\n",
      "(70, 5)\n",
      "(394,)\n",
      "(70,)\n"
     ]
    }
   ],
   "source": [
    "#verificar número de items para cada set\n",
    "print(X_train.shape)\n",
    "print(X_test.shape)\n",
    "print(y_train.shape)\n",
    "print(y_test.shape)"
   ]
  },
  {
   "cell_type": "markdown",
   "metadata": {},
   "source": [
    "#### 3. Crear y evaluar un modelo de predicción"
   ]
  },
  {
   "cell_type": "code",
   "execution_count": 18,
   "metadata": {},
   "outputs": [
    {
     "name": "stdout",
     "output_type": "stream",
     "text": [
      "R-squared en set de training: 0.039\n",
      "R-squared en set de test: 0.051\n"
     ]
    }
   ],
   "source": [
    "#importar el modelo, en este caso regresion lineal.\n",
    "from sklearn.linear_model import LinearRegression\n",
    "# ajustar(fit) los datos de entrenamiento al modelo\n",
    "model = LinearRegression().fit(X_train_scaled, y_train)\n",
    "#Generar los resultados\n",
    "#Extraer el r-cuadrado (r-squared) como medida de exactitud\n",
    "print('R-squared en set de training: {:.3f}'\n",
    "     .format(model.score(X_train_scaled, y_train)))\n",
    "#Comparar r cuadrada con el set de pruebas\n",
    "print('R-squared en set de test: {:.3f}'\n",
    "     .format(model.score(X_test_scaled, y_test)))"
   ]
  },
  {
   "cell_type": "code",
   "execution_count": 19,
   "metadata": {},
   "outputs": [
    {
     "data": {
      "text/html": [
       "<div>\n",
       "<style scoped>\n",
       "    .dataframe tbody tr th:only-of-type {\n",
       "        vertical-align: middle;\n",
       "    }\n",
       "\n",
       "    .dataframe tbody tr th {\n",
       "        vertical-align: top;\n",
       "    }\n",
       "\n",
       "    .dataframe thead th {\n",
       "        text-align: right;\n",
       "    }\n",
       "</style>\n",
       "<table border=\"1\" class=\"dataframe\">\n",
       "  <thead>\n",
       "    <tr style=\"text-align: right;\">\n",
       "      <th></th>\n",
       "      <th>Reviews</th>\n",
       "      <th>Días_transcurridos</th>\n",
       "      <th>Genero_bin</th>\n",
       "      <th>Libros_top</th>\n",
       "      <th>Ganacia</th>\n",
       "    </tr>\n",
       "  </thead>\n",
       "  <tbody>\n",
       "    <tr>\n",
       "      <td>0</td>\n",
       "      <td>0.072869</td>\n",
       "      <td>-0.056523</td>\n",
       "      <td>-0.051124</td>\n",
       "      <td>0.01199</td>\n",
       "      <td>-0.383631</td>\n",
       "    </tr>\n",
       "  </tbody>\n",
       "</table>\n",
       "</div>"
      ],
      "text/plain": [
       "    Reviews  Días_transcurridos  Genero_bin  Libros_top   Ganacia\n",
       "0  0.072869           -0.056523   -0.051124     0.01199 -0.383631"
      ]
     },
     "execution_count": 19,
     "metadata": {},
     "output_type": "execute_result"
    }
   ],
   "source": [
    "#extraer los coeficientes de regresión del modelo\n",
    "coeficientes = pd.DataFrame(model.coef_)\n",
    "coeficientes = coeficientes.T\n",
    "coeficientes.columns = ['Reviews', 'Días_transcurridos','Genero_bin','Libros_top','Ganacia']\n",
    "coeficientes.head()"
   ]
  },
  {
   "cell_type": "markdown",
   "metadata": {},
   "source": [
    "##### Interpretación.\n",
    "Los coeficientes del modelo indican la relación (positiva o negativa) que guardan las variables independientes con el rating, que es nuestra variable dependiente. Así, tenemos que si los reviews aumentan, también aumenta el rating. Sobre las variables sugeridas por el cliente, el número total de libros que el autor tiene en los top 50 tiene un impacto positivo en el rating, esto es, entre más libros tiene el autor en el top 50, el rating del libro tenderá a ser mayor.\n",
    "La segunda variable propuesta por el cliente, días transcurridos desde su lanzamiento, tiene un impacto negativo en el Rating. Esto es, entre menos días transcurridos tiene un libro, su raiting será menor.\n",
    "\n",
    "Por otro lado, la ganancia tiene un impacto positivo en el rating. De tal forma que, si la ganancia del libro disminuye, también bajará el rating de un libro.\n",
    "\n",
    "Para modelos de regresión se toma como medida de exactitud la r-cuadrada o r-squared, que nos indica qué tanta explicación puede dar nuestro modelo al problema planteado, en este caso la predicción del rating. Para este modelo, ambos scores son bajos, lo que se debe en cierta parte a la cantidad de datos con los que entrenó nuestro modelo (394 datos). Si se cambia el porcentaje de datos de entrenamiento y los datos de test o el tamaño del set, se corre el riesgo de que el modelo aprenda muy bien esos datos (overfitting) pero el score no sea bueno probando con el set de test.\n",
    "En los resultados actuales, el modelo tiene un mejor ajuste (aunque mínimo) para el set de entrenamiento."
   ]
  },
  {
   "cell_type": "markdown",
   "metadata": {},
   "source": [
    "##### Comparar las predicciones"
   ]
  },
  {
   "cell_type": "markdown",
   "metadata": {},
   "source": [
    "Finalmente, aunque ya tenemos un score de qué tan bueno es nuestro modelo para predecir el rating de un libro, la tabla siguiente muestra los valores actuales contra la predicción. Así, se observa que en algunos casos la predicción que generó el modelo tiene de 2 a 3 decimales de diferencia con los valores reales, y en otros casos (como en la línea 3) la predicción está muy cercana a los valores actuales."
   ]
  },
  {
   "cell_type": "code",
   "execution_count": 20,
   "metadata": {
    "scrolled": true
   },
   "outputs": [
    {
     "data": {
      "text/html": [
       "<div>\n",
       "<style scoped>\n",
       "    .dataframe tbody tr th:only-of-type {\n",
       "        vertical-align: middle;\n",
       "    }\n",
       "\n",
       "    .dataframe tbody tr th {\n",
       "        vertical-align: top;\n",
       "    }\n",
       "\n",
       "    .dataframe thead th {\n",
       "        text-align: right;\n",
       "    }\n",
       "</style>\n",
       "<table border=\"1\" class=\"dataframe\">\n",
       "  <thead>\n",
       "    <tr style=\"text-align: right;\">\n",
       "      <th></th>\n",
       "      <th>Actual</th>\n",
       "      <th>Predicción</th>\n",
       "    </tr>\n",
       "  </thead>\n",
       "  <tbody>\n",
       "    <tr>\n",
       "      <td>0</td>\n",
       "      <td>4.8</td>\n",
       "      <td>4.530774</td>\n",
       "    </tr>\n",
       "    <tr>\n",
       "      <td>1</td>\n",
       "      <td>4.8</td>\n",
       "      <td>4.712527</td>\n",
       "    </tr>\n",
       "    <tr>\n",
       "      <td>2</td>\n",
       "      <td>4.7</td>\n",
       "      <td>4.582962</td>\n",
       "    </tr>\n",
       "    <tr>\n",
       "      <td>3</td>\n",
       "      <td>4.6</td>\n",
       "      <td>4.681731</td>\n",
       "    </tr>\n",
       "    <tr>\n",
       "      <td>4</td>\n",
       "      <td>4.8</td>\n",
       "      <td>4.681148</td>\n",
       "    </tr>\n",
       "    <tr>\n",
       "      <td>...</td>\n",
       "      <td>...</td>\n",
       "      <td>...</td>\n",
       "    </tr>\n",
       "    <tr>\n",
       "      <td>65</td>\n",
       "      <td>4.9</td>\n",
       "      <td>4.689876</td>\n",
       "    </tr>\n",
       "    <tr>\n",
       "      <td>66</td>\n",
       "      <td>4.7</td>\n",
       "      <td>4.620739</td>\n",
       "    </tr>\n",
       "    <tr>\n",
       "      <td>67</td>\n",
       "      <td>4.7</td>\n",
       "      <td>4.542198</td>\n",
       "    </tr>\n",
       "    <tr>\n",
       "      <td>68</td>\n",
       "      <td>4.0</td>\n",
       "      <td>4.631341</td>\n",
       "    </tr>\n",
       "    <tr>\n",
       "      <td>69</td>\n",
       "      <td>4.8</td>\n",
       "      <td>4.555955</td>\n",
       "    </tr>\n",
       "  </tbody>\n",
       "</table>\n",
       "<p>70 rows × 2 columns</p>\n",
       "</div>"
      ],
      "text/plain": [
       "    Actual  Predicción\n",
       "0      4.8    4.530774\n",
       "1      4.8    4.712527\n",
       "2      4.7    4.582962\n",
       "3      4.6    4.681731\n",
       "4      4.8    4.681148\n",
       "..     ...         ...\n",
       "65     4.9    4.689876\n",
       "66     4.7    4.620739\n",
       "67     4.7    4.542198\n",
       "68     4.0    4.631341\n",
       "69     4.8    4.555955\n",
       "\n",
       "[70 rows x 2 columns]"
      ]
     },
     "execution_count": 20,
     "metadata": {},
     "output_type": "execute_result"
    }
   ],
   "source": [
    "#Extraer predicciones\n",
    "predictions = model.predict(X_test_scaled)\n",
    "#comparar la predicción contra valores actuales\n",
    "compare_df = pd.DataFrame({'Actual': y_test, 'Predicción': predictions})\n",
    "compare_df = compare_df.reset_index(drop = True)\n",
    "compare_df"
   ]
  },
  {
   "cell_type": "markdown",
   "metadata": {},
   "source": [
    "### Consideraciones finales\n",
    "Para construir este modelo partimos de los requerimentos del cliente que eran agregar dos variables que se consideran tienen el mayor impacto para el rating de un libro. Adicionalmente, en nuestro modelo agregamos el Género como posible variable explicatoria del rating además de la Ganancia medida en porcentaje del total. Sin embargo, el r-cuadrado como score del modelo nos indicó que nuestra propuesta solo puede explicar un 0.03% la variabilidad en el rating de un libro.\n",
    "Es por ello que sería bueno tener acceso a más datos que pudieran mejorar el ajuste del modelo y tener acceso al \"Sentimiento\" del review. Esto es, clasificar los reviews de acuerdo a si son positivos o negativos, ya que se asume que si un libro tiene más reviews positivos su rating debería ser mejor que aquéllos otros libros con más reviews negativos.\n",
    "\n",
    "Otras variables que sería bueno tener sería el número de páginas y otras características físicas del libro como tipo de pasta, impresión color o blanco y negro y determinar si el libro es físico o electrónico. Sin embargo, la adición de nuevas variables significa una posibilidad de generar un modelo con un mejor ajuste, pero no siempre tiene el impacto deseado en el modelo.\n"
   ]
  }
 ],
 "metadata": {
  "kernelspec": {
   "display_name": "Python 3",
   "language": "python",
   "name": "python3"
  },
  "language_info": {
   "codemirror_mode": {
    "name": "ipython",
    "version": 3
   },
   "file_extension": ".py",
   "mimetype": "text/x-python",
   "name": "python",
   "nbconvert_exporter": "python",
   "pygments_lexer": "ipython3",
   "version": "3.8.5"
  }
 },
 "nbformat": 4,
 "nbformat_minor": 4
}
