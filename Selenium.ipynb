{
 "cells": [
  {
   "cell_type": "code",
   "execution_count": 33,
   "id": "39f76e57",
   "metadata": {},
   "outputs": [
    {
     "name": "stdout",
     "output_type": "stream",
     "text": [
      "Collecting selenium\n",
      "  Downloading selenium-3.141.0-py2.py3-none-any.whl (904 kB)\n",
      "Requirement already satisfied: urllib3 in c:\\users\\r6sfxbx\\anaconda3\\lib\\site-packages (from selenium) (1.26.4)\n",
      "Installing collected packages: selenium\n",
      "Successfully installed selenium-3.141.0\n"
     ]
    }
   ],
   "source": []
  },
  {
   "cell_type": "code",
   "execution_count": 34,
   "id": "0d4cafab",
   "metadata": {},
   "outputs": [],
   "source": [
    "#installing libraries\n",
    "# !conda install -c anaconda beautifulsoup4\n",
    "# !conda install -c anaconda requests\n",
    "# !pip install selenium\n",
    "#load libraries\n",
    "from bs4 import BeautifulSoup\n",
    "from requests import get\n",
    "import requests\n",
    "import pandas as pd\n",
    "import itertools\n",
    "import matplotlib.pyplot as plt\n",
    "import seaborn as sns\n",
    "# import lxml\n",
    "# sns.set()\n",
    "import re\n",
    "import json\n",
    "from selenium import webdriver"
   ]
  },
  {
   "cell_type": "code",
   "execution_count": 37,
   "id": "6775f1c4",
   "metadata": {},
   "outputs": [],
   "source": [
    "url = \"https://shop.weezy.co.uk/en/store/Weezy_W12/858953\"\n",
    "driver = webdriver.Chrome()\n",
    "driver.get(url)\n",
    "# path = 'C:\\Users\\r6sfxbx\\Documents'\n"
   ]
  },
  {
   "cell_type": "code",
   "execution_count": 6,
   "id": "5481bb5d",
   "metadata": {},
   "outputs": [],
   "source": [
    "# get?"
   ]
  },
  {
   "cell_type": "code",
   "execution_count": 28,
   "id": "1aefd7e7",
   "metadata": {},
   "outputs": [],
   "source": [
    "requests?"
   ]
  },
  {
   "cell_type": "code",
   "execution_count": 11,
   "id": "ba02e5ce",
   "metadata": {
    "scrolled": true
   },
   "outputs": [
    {
     "name": "stdout",
     "output_type": "stream",
     "text": [
      "All good!\n"
     ]
    }
   ],
   "source": [
    "url = 'https://shop.weezy.co.uk/en/store/Weezy_W12/858953'\n",
    "response = get(url)\n",
    "\n",
    "#check if we have access to the url\n",
    "if response.status_code == requests.codes.ok:\n",
    "  print('All good!')"
   ]
  },
  {
   "cell_type": "code",
   "execution_count": 13,
   "id": "e27217dc",
   "metadata": {},
   "outputs": [
    {
     "name": "stdout",
     "output_type": "stream",
     "text": [
      "200\n"
     ]
    },
    {
     "data": {
      "text/plain": [
       "'<!doctype html>\\n<html lang=\"en\">\\n\\n<head>\\n  <meta charset=\"utf-8\">\\n  <title></title>\\n  <base href=\"/en/\">\\n  <meta name=\"viewport\" content=\"width=device-width, initial-scale=1\">\\n  <link rel=\"icon\" id=\"size32\" sizes=\"32x32\" />\\n  <link rel=\"icon\" id=\"size192\" sizes=\"192x192\" />\\n  <link id=\"appFavicon\" rel=\"icon\" type=\"image/x-icon\">\\n  <link rel=\"manifest\" href=\"manifest.json\">\\n  <link href=\"https://fonts.googleapis.com/css2?family=Poppins:wght@200;300;400;500;600&display=swap\" rel=\"stylesheet\">\\n  <meta name=\"theme-color\" content=\"#1976d2\">\\n  <script type=\"text/javascript\" src=\"new-relic.js\"></script>\\n\\n  <!-- Intercom Chat Integration -->\\n  <script>\\n    // We pre-filled your app ID in the widget URL: \\'https://widget.intercom.io/widget/a59eapz6\\'\\n    (function () { var w = window; var ic = w.Intercom; if (typeof ic === \"function\") { ic(\\'reattach_activator\\'); ic(\\'update\\', w.intercomSettings); } else { var d = document; var i = function () { i.c(arguments); }; i.q = []; i.c = function (args) { '"
      ]
     },
     "execution_count": 13,
     "metadata": {},
     "output_type": "execute_result"
    }
   ],
   "source": [
    "#check status code\n",
    "statusCode = response.status_code #200\n",
    "print(statusCode)\n",
    "#check the request as text\n",
    "htmlText = response.text\n",
    "#check the first 1000 items\n",
    "htmlText[:1000]\n",
    "# response.content[:1000]"
   ]
  },
  {
   "cell_type": "code",
   "execution_count": 15,
   "id": "d3a09193",
   "metadata": {},
   "outputs": [
    {
     "data": {
      "text/plain": [
       "['html',\n",
       " '\\n',\n",
       " <html lang=\"en\">\n",
       " <head>\n",
       " <meta charset=\"utf-8\"/>\n",
       " <title></title>\n",
       " <base href=\"/en/\"/>\n",
       " <meta content=\"width=device-width, initial-scale=1\" name=\"viewport\"/>\n",
       " <link id=\"size32\" rel=\"icon\" sizes=\"32x32\"/>\n",
       " <link id=\"size192\" rel=\"icon\" sizes=\"192x192\"/>\n",
       " <link id=\"appFavicon\" rel=\"icon\" type=\"image/x-icon\"/>\n",
       " <link href=\"manifest.json\" rel=\"manifest\"/>\n",
       " <link href=\"https://fonts.googleapis.com/css2?family=Poppins:wght@200;300;400;500;600&amp;display=swap\" rel=\"stylesheet\"/>\n",
       " <meta content=\"#1976d2\" name=\"theme-color\"/>\n",
       " <script src=\"new-relic.js\" type=\"text/javascript\"></script>\n",
       " <!-- Intercom Chat Integration -->\n",
       " <script>\n",
       "     // We pre-filled your app ID in the widget URL: 'https://widget.intercom.io/widget/a59eapz6'\n",
       "     (function () { var w = window; var ic = w.Intercom; if (typeof ic === \"function\") { ic('reattach_activator'); ic('update', w.intercomSettings); } else { var d = document; var i = function () { i.c(arguments); }; i.q = []; i.c = function (args) { i.q.push(args); }; w.Intercom = i; var l = function () { var s = d.createElement('script'); s.type = 'text/javascript'; s.async = true; s.src = 'https://widget.intercom.io/widget/a59eapz6'; var x = d.getElementsByTagName('script')[0]; x.parentNode.insertBefore(s, x); }; if (w.attachEvent) { w.attachEvent('onload', l); } else { w.addEventListener('load', l, false); } } })();\n",
       "   </script>\n",
       " <!-- End Intercom Chat Integration -->\n",
       " <link href=\"styles.a4a9bb63a19cde90d034.css\" rel=\"stylesheet\"/></head>\n",
       " <body>\n",
       " <app-root>\n",
       " </app-root>\n",
       " <div class=\"loader-wrap\" id=\"splashLoader\">\n",
       " </div>\n",
       " <script defer=\"\" type=\"application/javascript\">\n",
       "     function getIP(json) {\n",
       "       localStorage.setItem('ip_address', json.ip)\n",
       "       console.log(\"My public IP address is: \", json.ip);\n",
       "     }\n",
       "   </script>\n",
       " <script type=\"application/javascript\">\n",
       " \n",
       "     window.addEventListener('beforeinstallprompt', (e) => {\n",
       "       // Prevent Chrome 67 and earlier from automatically showing the prompt\n",
       "       e.preventDefault();\n",
       "       // Stash the event so it can be triggered later.\n",
       "     });\n",
       "   </script>\n",
       " <!-- set dynamic base href (env,beta,prod => '/${locale}/'  , localhost => '/') -->\n",
       " <script type=\"application/javascript\">\n",
       "     if(['en', 'fr', 'ar', 'es', 'ms', 'zh-Hans', 'pt', 'zh-Hant', 'bn', 'es-mx', 'km', 'ka', 'ro', 'ta', 'si', 'sv', 'nl', 'el', 'ko', 'pt-br', 'th', 'mr', 'hi', 'ru', 'ar-sa', 'it', 'hr', 'lv', 'tr','nb','lo','vi','fr-ch','hu','de', 'ar-kl', 'sk','kn','ku'].includes(window.location.pathname.split('/')[1]))\n",
       "     {\n",
       "       window['base-href'] = `/${window.location.pathname.split('/')[1]}/`;\n",
       "     }\n",
       "     else{\n",
       "       window['base-href'] = \"/\";\n",
       "     }\n",
       "   </script>\n",
       " <noscript>Please enable JavaScript to continue using this application.</noscript>\n",
       " <script src=\"runtime.d35229eb5c2f124f64c6.js\" type=\"text/javascript\"></script><script src=\"polyfills.a180a71abf7e882b874b.js\" type=\"text/javascript\"></script><script src=\"scripts.a9c5e8760998e64b02aa.js\" type=\"text/javascript\"></script><script src=\"main.0012ee07f34c15ac2189.js\" type=\"text/javascript\"></script></body>\n",
       " </html>]"
      ]
     },
     "execution_count": 15,
     "metadata": {},
     "output_type": "execute_result"
    }
   ],
   "source": [
    "#create the parser or translator from html to python\n",
    "html_soup = BeautifulSoup(response.text, 'html.parser')\n",
    "# data = BeautifulSoup(htmlText, 'lxml')\n",
    "# html_soup.prettify\n",
    "html_soup.contents"
   ]
  },
  {
   "cell_type": "code",
   "execution_count": 16,
   "id": "72fdae82",
   "metadata": {},
   "outputs": [
    {
     "data": {
      "text/plain": [
       "'\\n\\n\\n\\n\\n\\n\\n\\n\\n\\n\\n\\n\\n\\n\\n\\n\\n\\n\\n\\n\\n\\n\\n\\n\\n\\n\\nPlease enable JavaScript to continue using this application.\\n\\n'"
      ]
     },
     "execution_count": 16,
     "metadata": {},
     "output_type": "execute_result"
    }
   ],
   "source": [
    "# source_code = requests.get(url)\n",
    "# plain_text = source_code.text\n",
    "# soup = BeautifulSoup(plain_text, 'html.parser').text\n",
    "# soup"
   ]
  },
  {
   "cell_type": "code",
   "execution_count": 21,
   "id": "24cc5be0",
   "metadata": {
    "scrolled": true
   },
   "outputs": [
    {
     "data": {
      "text/plain": [
       "[<div class=\"loader-wrap\" id=\"splashLoader\">\n",
       " </div>]"
      ]
     },
     "execution_count": 21,
     "metadata": {},
     "output_type": "execute_result"
    }
   ],
   "source": [
    "html_soup.find_all('div')"
   ]
  },
  {
   "cell_type": "code",
   "execution_count": 30,
   "id": "94f522db",
   "metadata": {},
   "outputs": [
    {
     "data": {
      "text/plain": [
       "{'Date': 'Mon, 31 May 2021 19:48:17 GMT', 'Server': 'Apache/2.4.46 (Amazon) OpenSSL/1.0.2k-fips PHP/5.6.40', 'X-Powered-By': 'Express', 'Access-Control-Allow-Origin': '*', 'Access-Control-Allow-Methods': 'GET, POST, OPTIONS, PUT, DELETE', 'Access-Control-Allow-Headers': 'X-Requested-With,content-type', 'Access-Control-Allow-Credentials': 'true', 'X-XSS-Protection': '1; mode=block', 'Content-Security-Policy': \"default-src 'self'\", 'X-Content-Type-Options': 'nosniff', 'Content-Type': 'text/html; charset=utf-8', 'Content-Length': '164', 'Keep-Alive': 'timeout=5, max=100', 'Connection': 'Keep-Alive'}"
      ]
     },
     "execution_count": 30,
     "metadata": {},
     "output_type": "execute_result"
    }
   ],
   "source": [
    "response = requests.get(\"https://server.weezy.co.uk/get_products_for_category\")\n",
    "response.headers\n",
    "# jsonResponse = ((response.text.split('angular.callbacks._3('))[1].split(');')[0])\n",
    "# data = json.loads(jsonResponse)\n",
    "# print(data)\n",
    "# print(data[\"grid_layout\"])\n",
    "# grid_data = data[\"grid_layout\"]\n",
    "\n",
    "# for grid_item in grid_data:\n",
    "#     print(\"Brand:\", grid_item[\"brand\"])\n",
    "#     print(\"Product Name:\", grid_item[\"name\"])\n",
    "#     print(\"Current Price: Rs\", grid_item[\"offer_price\"])\n",
    "#     print(\"==================\")"
   ]
  }
 ],
 "metadata": {
  "kernelspec": {
   "display_name": "Python 3",
   "language": "python",
   "name": "python3"
  },
  "language_info": {
   "codemirror_mode": {
    "name": "ipython",
    "version": 3
   },
   "file_extension": ".py",
   "mimetype": "text/x-python",
   "name": "python",
   "nbconvert_exporter": "python",
   "pygments_lexer": "ipython3",
   "version": "3.8.8"
  }
 },
 "nbformat": 4,
 "nbformat_minor": 5
}
