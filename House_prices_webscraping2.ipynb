{
 "cells": [
  {
   "cell_type": "code",
   "execution_count": 1,
   "metadata": {},
   "outputs": [],
   "source": [
    "from bs4 import BeautifulSoup\n",
    "from requests import get\n",
    "import requests\n",
    "import pandas as pd\n",
    "import itertools\n",
    "import matplotlib.pyplot as plt\n",
    "import seaborn as sns\n",
    "import lxml\n",
    "sns.set()\n",
    "import re\n",
    "import json"
   ]
  },
  {
   "cell_type": "code",
   "execution_count": 4,
   "metadata": {
    "scrolled": true
   },
   "outputs": [
    {
     "name": "stdout",
     "output_type": "stream",
     "text": [
      "92\n",
      "27\n",
      "96\n"
     ]
    }
   ],
   "source": [
    "prices = []\n",
    "colonias = []\n",
    "name = []\n",
    "\n",
    "\n",
    "n_pages = 0\n",
    "\n",
    "for page in range(0,4):\n",
    "    n_pages += 1\n",
    "    viva_url = 'https://www.vivanuncios.com.mx/s-renta-inmuebles/monterrey/'+ 'page-'+str(page)+'/v1c1098l10980p2?ba=20&be=2'\n",
    "    r = get(viva_url)\n",
    "    page_html = BeautifulSoup(r.text, 'html.parser')\n",
    "    \n",
    "#     #prices\n",
    "#     prices_tag = page_html.find_all('span', class_=\"ad-price\")\n",
    "#     for price in prices_tag:\n",
    "#         price = str(price)\n",
    "#         price_= re.sub(\"<.*>\",'', price)\n",
    "#         price_= price_.replace('\\n','')\n",
    "#         price_= price_.strip()\n",
    "#         price.append(price_)\n",
    "        \n",
    "       #precios\n",
    "    prices_tag = page_html.find_all('span', class_=\"ad-price\")\n",
    "    for price in prices_tag:\n",
    "        price = str(price)\n",
    "        price_= re.sub(\"<.*>\",'', price)\n",
    "        price_= price_.replace('\\n','')\n",
    "        price_= price_.strip()\n",
    "        prices.append(price_)\n",
    "        \n",
    "        \n",
    "    #colonias(neighborhoods)\n",
    "    colonias_tag = page_html.find_all('div', class_='tile-location one-liner')\n",
    "    for colonia in colonias_tag:\n",
    "        if colonia != '':\n",
    "            colonia = str(colonia)\n",
    "            colonia = re.sub('<.*?>','', colonia)\n",
    "            colonias.append(colonia)\n",
    "        elif colonia == '':\n",
    "            colonias.append('-')\n",
    "        \n",
    "    #property name\n",
    "    title_tag = page_html.find_all('a', class_='href-link tile-title-text')\n",
    "    for title in title_tag:\n",
    "        title = str(title)\n",
    "        title = re.sub('<.*?>', '', title)\n",
    "        name.append(title)\n",
    "print(len(name))\n",
    "print(len(colonia))\n",
    "print(len(price))\n"
   ]
  },
  {
   "cell_type": "code",
   "execution_count": 5,
   "metadata": {},
   "outputs": [
    {
     "name": "stdout",
     "output_type": "stream",
     "text": [
      "<class 'str'>\n"
     ]
    }
   ],
   "source": [
    "#define the URL\n",
    "viva= \"https://www.vivanuncios.com.mx/s-renta-inmuebles/monterrey/v1c1098l10980p1?ba=20&be=2\"\n",
    "#get the data\n",
    "response = get(viva)\n",
    "#create the html soup\n",
    "html_soup = BeautifulSoup(response.text, 'html.parser')\n",
    "#find the json\n",
    "json_obj = html_soup.find(\"script\", type=\"application/ld+json\", text=True).string.strip()\n",
    "#\n",
    "print(type(json_obj))"
   ]
  }
 ],
 "metadata": {
  "kernelspec": {
   "display_name": "Python 3",
   "language": "python",
   "name": "python3"
  },
  "language_info": {
   "codemirror_mode": {
    "name": "ipython",
    "version": 3
   },
   "file_extension": ".py",
   "mimetype": "text/x-python",
   "name": "python",
   "nbconvert_exporter": "python",
   "pygments_lexer": "ipython3",
   "version": "3.8.5"
  }
 },
 "nbformat": 4,
 "nbformat_minor": 4
}
